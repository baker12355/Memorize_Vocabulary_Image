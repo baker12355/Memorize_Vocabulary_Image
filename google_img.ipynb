{
 "cells": [
  {
   "cell_type": "code",
   "execution_count": 194,
   "metadata": {},
   "outputs": [],
   "source": [
    "import requests\n",
    "from bs4 import BeautifulSoup\n",
    "import re\n",
    "import numpy as np\n",
    "import pandas as pd\n",
    "import time\n",
    "from selenium import webdriver\n",
    "from tqdm import tqdm, tqdm_notebook\n",
    "from selenium.webdriver.chrome.options import Options\n",
    "import os\n",
    "import html\n",
    "from io import BytesIO\n",
    "from PIL import Image, ImageDraw, ImageFont\n",
    "import os\n"
   ]
  },
  {
   "cell_type": "code",
   "execution_count": null,
   "metadata": {},
   "outputs": [],
   "source": []
  },
  {
   "cell_type": "code",
   "execution_count": 440,
   "metadata": {},
   "outputs": [],
   "source": [
    "chrome_options = Options()\n",
    "chrome_options.add_argument(\"--headless\")       # define headless\n",
    "chrome_options.add_argument(\"--window-size=1000,800\")\n",
    "browser = webdriver.Chrome(options=chrome_options)"
   ]
  },
  {
   "cell_type": "code",
   "execution_count": 449,
   "metadata": {},
   "outputs": [],
   "source": [
    "files = os.listdir('word')\n",
    "exist = os.listdir('img')\n",
    "exist = [e + '.csv' for e in exist]\n",
    "remainder = list(set(files) - set(exist))"
   ]
  },
  {
   "cell_type": "code",
   "execution_count": 450,
   "metadata": {},
   "outputs": [
    {
     "data": {
      "text/plain": [
       "['皮皮1.csv']"
      ]
     },
     "execution_count": 450,
     "metadata": {},
     "output_type": "execute_result"
    }
   ],
   "source": [
    "remainder"
   ]
  },
  {
   "cell_type": "code",
   "execution_count": 451,
   "metadata": {},
   "outputs": [
    {
     "data": {
      "application/vnd.jupyter.widget-view+json": {
       "model_id": "b4572a4f72df42668baf0a2a3212085c",
       "version_major": 2,
       "version_minor": 0
      },
      "text/plain": [
       "HBox(children=(IntProgress(value=0, max=1), HTML(value='')))"
      ]
     },
     "metadata": {},
     "output_type": "display_data"
    },
    {
     "name": "stdout",
     "output_type": "stream",
     "text": [
      "Now running 皮皮1.csv\n",
      "Directory  img/皮皮1  Created \n"
     ]
    },
    {
     "data": {
      "application/vnd.jupyter.widget-view+json": {
       "model_id": "d325fca70df04fbea7f4abbceb7c66e6",
       "version_major": 2,
       "version_minor": 0
      },
      "text/plain": [
       "HBox(children=(IntProgress(value=0, max=10), HTML(value='')))"
      ]
     },
     "metadata": {},
     "output_type": "display_data"
    },
    {
     "name": "stdout",
     "output_type": "stream",
     "text": [
      "\n"
     ]
    }
   ],
   "source": [
    "for file in tqdm_notebook(remainder, total=len(remainder)):\n",
    "    items = pd.read_csv('word/' + file, header=None).T.values[0]\n",
    "    print ('Now running %s'%(file))\n",
    "    category = file.split('.')[0]\n",
    "    dirName = 'img/'+category\n",
    "    # Create target Directory if don't exist\n",
    "    if not os.path.exists(dirName):\n",
    "        os.mkdir(dirName)\n",
    "        os.mkdir(dirName+'/%s_test'%(category))\n",
    "        print(\"Directory \" , dirName ,  \" Created \")\n",
    "    else:    \n",
    "        print(\"Directory \" , dirName ,  \" already exists\")\n",
    "    \n",
    "    for item in tqdm_notebook(items, total=len(items)):\n",
    "        item_len = len(item)\n",
    "        url = 'https://www.google.com/search?biw=1164&bih=801&tbm=isch&sa=1&ei=WJZOXe35GsyWr7wPp8-d-Ao&q=%s&oq=%s\\\n",
    "        &gs_l=img.3..35i39j0l9.5946968.5948390..5948893...0.0..0.130.345.1j2......0....1..gws-wiz-img.....0.62GBiwmruak&ved=0ahUKEwjthdyshvjjAhVMy4sBHadnB68Q4dUDCAY&uact=5'%(item, item)\n",
    "        browser.get(url)\n",
    "        png = browser.get_screenshot_as_png()\n",
    "        im = Image.open(BytesIO(png))\n",
    "        im.save('img/%s/%s_test/%s.png'%(category, category, item))\n",
    "        drawAvatar   = ImageDraw.Draw(im)\n",
    "        fontSize     = 100 if item_len<=15 else int(1500/(item_len))\n",
    "        myFont       = ImageFont.truetype(\"arial.ttf\", fontSize)\n",
    "        drawAvatar.text([max(0, 0.5 * xSize - (item_len)*20), 0.11 * ySize],\\\n",
    "        item, fill = (255, 0, 0), font = myFont)\n",
    "        del drawAvatar\n",
    "        im.save('img/%s/%s.png'%(category, item))\n",
    "        time.sleep(1)\n",
    "        #im.show()\n"
   ]
  },
  {
   "cell_type": "code",
   "execution_count": 439,
   "metadata": {},
   "outputs": [],
   "source": [
    "browser.close()"
   ]
  },
  {
   "cell_type": "code",
   "execution_count": null,
   "metadata": {},
   "outputs": [],
   "source": []
  },
  {
   "cell_type": "code",
   "execution_count": null,
   "metadata": {},
   "outputs": [],
   "source": []
  },
  {
   "cell_type": "code",
   "execution_count": null,
   "metadata": {},
   "outputs": [],
   "source": []
  },
  {
   "cell_type": "code",
   "execution_count": null,
   "metadata": {},
   "outputs": [],
   "source": []
  }
 ],
 "metadata": {
  "kernelspec": {
   "display_name": "Python 3",
   "language": "python",
   "name": "python3"
  },
  "language_info": {
   "codemirror_mode": {
    "name": "ipython",
    "version": 3
   },
   "file_extension": ".py",
   "mimetype": "text/x-python",
   "name": "python",
   "nbconvert_exporter": "python",
   "pygments_lexer": "ipython3",
   "version": "3.6.8"
  }
 },
 "nbformat": 4,
 "nbformat_minor": 2
}
